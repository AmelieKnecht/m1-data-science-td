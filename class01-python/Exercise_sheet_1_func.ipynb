{
 "cells": [
  {
   "cell_type": "markdown",
   "metadata": {},
   "source": [
    "# Exercise Sheet \\# 1"
   ]
  },
  {
   "cell_type": "markdown",
   "metadata": {},
   "source": [
    "## Exercise 1\n",
    "Let us consider a group of friends who organised a party together. Each one brought some food to the party. To make it fair, all these friends decided that they should spend equal money. Let us develop some python program to help them do the math.\n",
    "\n",
    "### Question 1.1\n",
    "As an example, consider these friends bought the following items (together with their total price):\n",
    "\n",
    "Emilie|Paul|Jacques|Eric\n",
    ":--|:--|:--|:--\n",
    "soda,3|juice,4|apples,3|bread,1\n",
    "camembert,5|chorizo,3|cookies,2|\n",
    "beaufort,6|spam,2|\n",
    "tomatoes,3|\n",
    "\n",
    "That is, Emilie spent 17 EUR, Paul 9 EUR, Jacques 5 EUR and Eric 1 EUR.\n",
    "\n",
    "How much money each of them would have paid if they had bought food together ? "
   ]
  },
  {
   "cell_type": "markdown",
   "metadata": {},
   "source": [
    "### Question 1.2\n",
    "Define 4 variables (`emilie`, `paul`, `jacques` and `eric`) containing the items each of them brought to the party.\n",
    "As a data structure for these variables, we will use a list of tuples."
   ]
  },
  {
   "cell_type": "code",
   "execution_count": 2,
   "metadata": {},
   "outputs": [],
   "source": [
    "emilie = [('soda', 3), ('camembert', 5), ('beaufort', 6), ('tomatoes', 3)]\n",
    "paul   = [('juice', 4), ('chorizo', 3), ('spam', 2)]\n",
    "jacques= [('apples', 3), ('cookies', 2)]\n",
    "eric   = [('bread', 1)]"
   ]
  },
  {
   "cell_type": "markdown",
   "metadata": {},
   "source": [
    "### Question 1.3\n",
    "Define a function `spent` which takes as an input a list of goods and returns their total price. "
   ]
  },
  {
   "cell_type": "code",
   "execution_count": 13,
   "metadata": {},
   "outputs": [],
   "source": [
    "def spent(list_of_goods):\n",
    "    \"\"\" calculates total price a person has paid for items in list\"\"\"\n",
    "    total = 0\n",
    "    for i in list_of_goods:\n",
    "        total += i[1]\n",
    "    return total\n"
   ]
  },
  {
   "cell_type": "markdown",
   "metadata": {},
   "source": [
    "### Question 1.4\n",
    "What does `spent` returns when invoked with `paul` as a parameter ?"
   ]
  },
  {
   "cell_type": "code",
   "execution_count": 14,
   "metadata": {},
   "outputs": [
    {
     "name": "stdout",
     "output_type": "stream",
     "text": [
      "9\n"
     ]
    }
   ],
   "source": [
    "print(spent(paul))"
   ]
  },
  {
   "cell_type": "markdown",
   "metadata": {},
   "source": [
    "### Question 1.5\n",
    "Let us now define a variable `expenses` to encode all the expenses of the group. \n",
    "To do so, we will use a dictionary, which will associate each person (represented as a string) with her.his list of goods. "
   ]
  },
  {
   "cell_type": "code",
   "execution_count": 8,
   "metadata": {},
   "outputs": [
    {
     "name": "stdout",
     "output_type": "stream",
     "text": [
      "{'emilie': [('soda', 3), ('camembert', 5), ('beaufort', 6), ('tomatoes', 3)], 'paul': [('juice', 4), ('chorizo', 3), ('spam', 2)], 'jacques': [('apples', 3), ('cookies', 2)], 'eric': [('bread', 1)]}\n"
     ]
    }
   ],
   "source": [
    "expenses = {'emilie': emilie, 'paul': paul, 'jacques': jacques, 'eric': eric}\n",
    "print(expenses)"
   ]
  },
  {
   "cell_type": "markdown",
   "metadata": {},
   "source": [
    "### Question 1.6\n",
    "Define a function `total` which computes, from a dictionary of expenses, the total amount of money spent."
   ]
  },
  {
   "cell_type": "code",
   "execution_count": 20,
   "metadata": {},
   "outputs": [],
   "source": [
    "def total(dico_of_expenses):\n",
    "    \"\"\"computes total amount of money spent\"\"\"\n",
    "    total_all = 0\n",
    "    for lst in dico_of_expenses.values(): \n",
    "        total_all += spent(lst)\n",
    "    return total_all"
   ]
  },
  {
   "cell_type": "markdown",
   "metadata": {},
   "source": [
    "### Question 1.7\n",
    "What is the total amount of money spent by Emilie, Paul, Jacques and Eric ?"
   ]
  },
  {
   "cell_type": "code",
   "execution_count": 21,
   "metadata": {},
   "outputs": [
    {
     "name": "stdout",
     "output_type": "stream",
     "text": [
      "32\n"
     ]
    }
   ],
   "source": [
    "print(total(expenses))"
   ]
  },
  {
   "cell_type": "markdown",
   "metadata": {},
   "source": [
    "### Question 1.8\n",
    "Define a function `fair` which takes as an input a dictionary of expenses, and which returns a list of pairs _(person, money)_ indicating for each person, how much money she.he should pay (negative number) or receive (positive number)."
   ]
  },
  {
   "cell_type": "code",
   "execution_count": 23,
   "metadata": {},
   "outputs": [],
   "source": [
    "def fair(dico_of_expenses):\n",
    "    \"\"\"returns how much each person should pay or receive\"\"\"\n",
    "    fair_price = []\n",
    "    price_per_person = total(dico_of_expenses)/len(dico_of_expenses)\n",
    "    for k, lst in dico_of_expenses.items():\n",
    "        paid = spent(lst) \n",
    "        fair_price.append((k, paid-price_per_person))\n",
    "    return fair_price\n"
   ]
  },
  {
   "cell_type": "markdown",
   "metadata": {},
   "source": [
    "### Question 1.9\n",
    "What does `fair` returns when invoked with `expenses` as an input parameter ?"
   ]
  },
  {
   "cell_type": "code",
   "execution_count": 24,
   "metadata": {},
   "outputs": [
    {
     "data": {
      "text/plain": [
       "[('emilie', 9.0), ('paul', 1.0), ('jacques', -3.0), ('eric', -7.0)]"
      ]
     },
     "execution_count": 24,
     "metadata": {},
     "output_type": "execute_result"
    }
   ],
   "source": [
    "fair(expenses)"
   ]
  },
  {
   "cell_type": "markdown",
   "metadata": {},
   "source": [
    "## Exercise 2\n",
    "Let us consider recipies made of ingredients, which are sold in some shops. Recipies are python dictionary associating a recipy name with a preparation time, a cooking time and a difficulty score. Ingredients is a dictionary associating a name with a season (that is, when can these be found, for instance from May/5 til July/7). Shops finally is a dictionary associating a shop name with two booleans: one for indicating whether the shop is open on Sundays and one whether the shop only accepts cash.\n",
    "![diagram](https://mastertal.gitlab.io/UE803/notebooks/images/recipy.png)\n",
    "\n",
    "Examples of recipies include:\n",
    "<pre>recipies = { 'Kouglof' : (20, 20, 5), 'Banana Split' : (5, 0, 1), ... }</pre>\n",
    "Examples of ingredients include:\n",
    "<pre>ingredients = { 'strawberry' : (5, 7), 'flour' : (1, 12), ...}</pre>\n",
    "Examples of shops include:\n",
    "<pre>shops = { 'BuyOrganic' : (False , False), ...}</pre>\n",
    "The relations between a recipy and its ingredients are represented as follows:\n",
    "<pre>contains = [('Kouglof', 'flour'), ('Kouglof', 'sugar'), ...]</pre>\n",
    "and that between ingredients and shops:\n",
    "<pre> sold_in = [('flour', 'BuyOrganic'), ...]</pre>\n",
    "In the following questions, you are asked to define functions and to test them.\n",
    "\n",
    "To do so, define a dictionary containing 3 recipies, each one using 5 ingredients of your choices (they do not have to be real recipies :-) and make up 3 shops selling these ingredients."
   ]
  },
  {
   "cell_type": "code",
   "execution_count": 25,
   "metadata": {},
   "outputs": [],
   "source": [
    "recipes_dico = {'recipe1': {'recipe': {'banana_bread': (20, 40, 3)}, \n",
    "\t\t\t\t\t\t\t'ingredients': {'bananas': (1, 12), 'flour': (1, 12), 'sugar': (1, 12), 'walnuts': (1, 12), 'oil': (1, 12)},\n",
    "\t\t\t\t\t\t\t'sold_in': [('bananas', 'carrefour'), ('flour', 'leclerc'), ('sugar','superu'), ('nuts', 'carrefour'), ('oil', 'carrefour')], \n",
    "\t\t\t\t\t\t\t'shops': {'carrefour': (True, False), 'superu': (False, False), 'leclerc': (True, True)}},\n",
    "\t\t\t\t'recipe2': {'recipe': {'curry': (20, 20, 2)},\n",
    "\t\t\t\t            'ingredients': {'carrots': (3, 10), 'ginger': (1, 12), 'broccoli': (4, 10), 'coconut': (1, 12), 'tofu': (1, 12)}, \n",
    "\t\t\t\t\t\t\t'sold_in': [('carrots', 'carrefour'), ('ginger', 'leclerc'), ('broccoli', 'leclerc'), ('coconut', 'leclerc'), ('tofu', 'superu')],\n",
    "\t\t\t\t\t\t\t'shops': {'carrefour': (True, False), 'superu': (False, False), 'leclerc': (True, True)}},\n",
    "\t\t\t\t'recipe3': {'recipe': {'porridge': (5, 10, 1)}, \n",
    "\t\t\t\t            'ingredients': {'oats': (1, 12), 'berries': (5, 8), 'milk': (1, 12), 'cinnamon': (1, 12), 'nuts': (1, 12)}, \n",
    "\t\t\t\t\t\t\t'sold_in': [('oats', 'carrefour'), ('berries', 'superu'), ('milk', 'carrefour'), ('cinnamon', 'leclerc'), ('nuts', 'carrefour')],\n",
    "\t\t\t\t\t\t\t'shops': {'carrefour': (True, False), 'superu': (False, False), 'leclerc': (True, True)}}}"
   ]
  },
  {
   "cell_type": "markdown",
   "metadata": {},
   "source": [
    "### Question 2.1\n",
    "Define a function `in_recipy` which computes the list of recipies containing a given ingredient."
   ]
  },
  {
   "cell_type": "code",
   "execution_count": 3,
   "metadata": {},
   "outputs": [],
   "source": [
    "def in_recipe(dictionary_recipes, ingredient):\n",
    "    \"\"\"computes list of recipes containing given ingredient\"\"\"\n",
    "    list_of_recipes = [rec for rec in dictionary_recipes if ingredient in dictionary_recipes[rec]['ingredients'].keys()]\n",
    "    return list_of_recipes\n"
   ]
  },
  {
   "cell_type": "markdown",
   "metadata": {},
   "source": [
    "### Question 2.2\n",
    "Define a function `sold` which computes the list of shops where a given ingredient can be bought."
   ]
  },
  {
   "cell_type": "code",
   "execution_count": 11,
   "metadata": {},
   "outputs": [],
   "source": [
    "def sold(dictionary_recipes, ingredient):\n",
    "\t\"\"\"computes the list of shops where a given ingredient can be bought\"\"\"\n",
    "\tshops = []\n",
    "\tfor rec in dictionary_recipes:\n",
    "\t\tfor shop in dictionary_recipes[rec]['sold_in']:\n",
    "\t\t\tif ingredient in shop[0]:\n",
    "\t\t\t\tshops.append(shop[1])\n",
    "\treturn shops"
   ]
  },
  {
   "cell_type": "code",
   "execution_count": 12,
   "metadata": {},
   "outputs": [
    {
     "name": "stdout",
     "output_type": "stream",
     "text": [
      "['carrefour']\n"
     ]
    }
   ],
   "source": [
    "print(sold(recipes_dico, 'oats'))"
   ]
  },
  {
   "cell_type": "markdown",
   "metadata": {},
   "source": [
    "### Question 2.3\n",
    "Define a function `sunday` which computes the list of ingredients which can be bought on a sunday. "
   ]
  },
  {
   "cell_type": "code",
   "execution_count": 16,
   "metadata": {},
   "outputs": [],
   "source": [
    "def sunday(dictionary_recipes):\n",
    "\t\"\"\"computes lists of things which can be bought on a sunday\"\"\"\n",
    "\topen_sundays = []\n",
    "\tfor rec in dictionary_recipes:\n",
    "\t\tfor k, v in dictionary_recipes[rec]['shops'].items():\n",
    "\t\t\tif v[0] and k not in open_sundays:\n",
    "\t\t\t\topen_sundays.append(k)\n",
    "\tthings_to_buy = []\n",
    "\tfor rec in dictionary_recipes:\n",
    "\t\tfor i in dictionary_recipes[rec]['sold_in']:\n",
    "\t\t\tif i[1] in open_sundays and i[0] not in things_to_buy:\n",
    "\t\t\t\tthings_to_buy.append(i[0])\n",
    "\treturn things_to_buy\t\t\t\t"
   ]
  },
  {
   "cell_type": "markdown",
   "metadata": {},
   "source": [
    "### Question 2.4\n",
    "Define a function `convert` which turns a list of ingredients such as `contains` into a dictionary associating a recipy name with a list of ingredients. "
   ]
  },
  {
   "cell_type": "code",
   "execution_count": null,
   "metadata": {},
   "outputs": [],
   "source": [
    "def convert(list_of_ingredients):\n",
    "\t\"\"\"converts a list of ingredients into a ditionary\"\"\"\n",
    "\tdico = {}\n",
    "\tfor el in list_of_ingredients:\n",
    "\t\tif el[0] not in dico.keys():\n",
    "\t\t\tdico[el[0]] = [el[1]]\n",
    "\t\telse: \n",
    "\t\t\tdico[el[0]].append(el[1])\n",
    "\treturn dico\t"
   ]
  },
  {
   "cell_type": "markdown",
   "metadata": {},
   "source": [
    "### Question 2.5\n",
    "Define a function `this_month` which computes the list of recipies which can be cooked on a given month."
   ]
  },
  {
   "cell_type": "code",
   "execution_count": 31,
   "metadata": {},
   "outputs": [],
   "source": [
    "def this_month(dictionary_recipes, month):\n",
    "\t\"\"\"returns a list of recipes than can be cooked in a given month\"\"\"\n",
    "\trecipes_to_cook = []\n",
    "\tfor rec in dictionary_recipes:\n",
    "\t\tfor ing in dictionary_recipes[rec]['ingredients']:\n",
    "\t\t\tif month > dictionary_recipes[rec]['ingredients'][ing][0] and month < dictionary_recipes[rec]['ingredients'][ing][1]:\n",
    "\t\t\t\tif rec not in recipes_to_cook:\n",
    "\t\t\t\t\trecipes_to_cook.append(rec)\n",
    "\treturn recipes_to_cook\n",
    "\t\t\t"
   ]
  },
  {
   "cell_type": "code",
   "execution_count": 33,
   "metadata": {},
   "outputs": [
    {
     "name": "stdout",
     "output_type": "stream",
     "text": [
      "[]\n"
     ]
    }
   ],
   "source": [
    "print(this_month(recipes_dico, 1))"
   ]
  },
  {
   "cell_type": "code",
   "execution_count": null,
   "metadata": {},
   "outputs": [],
   "source": []
  }
 ],
 "metadata": {
  "kernelspec": {
   "display_name": "Python 3",
   "language": "python",
   "name": "python3"
  },
  "language_info": {
   "codemirror_mode": {
    "name": "ipython",
    "version": 3
   },
   "file_extension": ".py",
   "mimetype": "text/x-python",
   "name": "python",
   "nbconvert_exporter": "python",
   "pygments_lexer": "ipython3",
   "version": "3.10.7"
  }
 },
 "nbformat": 4,
 "nbformat_minor": 2
}
